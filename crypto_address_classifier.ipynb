{
  "nbformat": 4,
  "nbformat_minor": 0,
  "metadata": {
    "colab": {
      "provenance": [],
      "gpuType": "T4"
    },
    "kernelspec": {
      "name": "python3",
      "display_name": "Python 3"
    },
    "language_info": {
      "name": "python"
    },
    "accelerator": "GPU"
  },
  "cells": [
    {
      "cell_type": "markdown",
      "source": [
        "#Dataset Generation\n"
      ],
      "metadata": {
        "id": "GO2CQrJtpFsa"
      }
    },
    {
      "cell_type": "code",
      "source": [
        "import random\n",
        "import string\n",
        "\n",
        "# Function to generate Bitcoin addresses with data augmentation\n",
        "def generate_btc_address():\n",
        "    prefixes = ['1', '3', 'bc1']\n",
        "    prefix = random.choice(prefixes)\n",
        "\n",
        "    # Generate a random length between 27 and 34 for the body\n",
        "    body_length = random.randint(27, 34)\n",
        "\n",
        "    if prefix == 'bc1':\n",
        "        body = ''.join(random.choices(string.ascii_lowercase + string.digits, k=body_length))\n",
        "    else:\n",
        "        body = ''.join(random.choices(string.ascii_letters + string.digits, k=body_length))\n",
        "\n",
        "    # Apply data augmentation techniques\n",
        "    augmented_address = list(body)\n",
        "    current_length = len(augmented_address)\n",
        "\n",
        "    for _ in range(random.randint(1, 5)):  # Randomly substitute characters\n",
        "        index = random.randint(0, current_length - 1)\n",
        "        augmented_address[index] = random.choice(string.ascii_letters + string.digits)\n",
        "\n",
        "    if current_length > 27:  # Truncate if length exceeds 27\n",
        "        augmented_address = augmented_address[:27]\n",
        "    elif current_length < 34:  # Pad if length is less than 34\n",
        "        augmented_address += random.choices(string.ascii_letters + string.digits, k=34 - current_length)\n",
        "\n",
        "    current_length = len(augmented_address)  # Update the current length after truncation/padding\n",
        "\n",
        "    for _ in range(random.randint(1, 3)):  # Randomly transpose characters\n",
        "        index1 = random.randint(0, current_length - 1)\n",
        "        index2 = random.randint(0, current_length - 1)\n",
        "        augmented_address[index1], augmented_address[index2] = augmented_address[index2], augmented_address[index1]\n",
        "\n",
        "    for _ in range(random.randint(1, 5)):  # Randomly add noise\n",
        "        index = random.randint(0, current_length)\n",
        "        augmented_address.insert(index, random.choice(string.ascii_letters + string.digits))\n",
        "        current_length += 1  # Increment the length after adding noise\n",
        "\n",
        "    return prefix + ''.join(augmented_address)\n",
        "\n",
        "# Function to generate Ethereum addresses with data augmentation\n",
        "def generate_eth_address():\n",
        "    body = ''.join(random.choices(string.hexdigits, k=40))  # Include both upper and lower case\n",
        "\n",
        "    # Apply data augmentation techniques\n",
        "    for _ in range(random.randint(1, 5)):\n",
        "        index = random.randint(0, 40)\n",
        "        body = body[:index] + random.choice(string.hexdigits) + body[index:]\n",
        "\n",
        "    return '0x' + body\n",
        "\n",
        "# Function to generate Litecoin addresses with data augmentation\n",
        "def generate_ltc_address():\n",
        "    prefixes = ['L', 'M', '3', 'ltc1']\n",
        "    prefix = random.choice(prefixes)\n",
        "\n",
        "    # Generate a random length between 33 and 39 for the body\n",
        "    body_length = random.randint(33, 39)\n",
        "\n",
        "    if prefix == 'ltc1':\n",
        "        body = ''.join(random.choices(string.ascii_lowercase + string.digits, k=body_length))\n",
        "    else:\n",
        "        body = ''.join(random.choices(string.ascii_letters + string.digits, k=body_length))\n",
        "\n",
        "    # Apply data augmentation techniques\n",
        "    for _ in range(random.randint(1, 5)):\n",
        "        index = random.randint(0, body_length)\n",
        "        body = body[:index] + random.choice(string.ascii_letters + string.digits) + body[index:]\n",
        "\n",
        "    return prefix + body\n",
        "\n",
        "# Function to generate Bitcoin Cash addresses with data augmentation\n",
        "def generate_bch_address():\n",
        "    prefixes = ['1', '3', 'bitcoincash:']\n",
        "    prefix = random.choice(prefixes)\n",
        "\n",
        "    # Generate a random length between 42 and 49 for the body\n",
        "    body_length = random.randint(42, 49)\n",
        "\n",
        "    if prefix == 'bitcoincash:':\n",
        "        body = ''.join(random.choices(string.ascii_lowercase + string.digits, k=body_length))\n",
        "    else:\n",
        "        body = ''.join(random.choices(string.ascii_letters + string.digits, k=body_length))\n",
        "\n",
        "    # Apply data augmentation techniques\n",
        "    for _ in range(random.randint(1, 5)):\n",
        "        index = random.randint(0, body_length)\n",
        "        body = body[:index] + random.choice(string.ascii_letters + string.digits) + body[index:]\n",
        "\n",
        "    return prefix + body\n"
      ],
      "metadata": {
        "id": "oXgU2nuMpJJI"
      },
      "execution_count": null,
      "outputs": []
    },
    {
      "cell_type": "code",
      "source": [
        "import pandas as pd\n",
        "# Generating a synthetic dataset\n",
        "data = []\n",
        "\n",
        "for _ in range(5000):\n",
        "    data.append((generate_btc_address(), 'Bitcoin'))\n",
        "    data.append((generate_eth_address(), 'Ethereum'))\n",
        "    data.append((generate_ltc_address(), 'Litecoin'))\n",
        "    data.append((generate_bch_address(), 'Bitcoin Cash'))\n",
        "\n",
        "df = pd.DataFrame(data, columns=['address', 'crypto_type'])\n",
        "\n",
        "# Save to CSV for future use\n",
        "df.to_csv('synthetic_crypto_addresses.csv', index=False)\n",
        "\n",
        "print(\"Synthetic dataset created and saved to 'synthetic_crypto_addresses.csv'.\")"
      ],
      "metadata": {
        "colab": {
          "base_uri": "https://localhost:8080/"
        },
        "id": "ef9UNiJBrfA2",
        "outputId": "e8981ddf-6a15-47c5-8fc7-23acb0bffb15"
      },
      "execution_count": null,
      "outputs": [
        {
          "output_type": "stream",
          "name": "stdout",
          "text": [
            "Synthetic dataset created and saved to 'synthetic_crypto_addresses.csv'.\n"
          ]
        }
      ]
    },
    {
      "cell_type": "code",
      "source": [
        "print(df[:10])"
      ],
      "metadata": {
        "colab": {
          "base_uri": "https://localhost:8080/"
        },
        "id": "TD7Bz9lIrliL",
        "outputId": "9e54bd39-6700-48be-d739-38e0a455b079"
      },
      "execution_count": null,
      "outputs": [
        {
          "output_type": "stream",
          "name": "stdout",
          "text": [
            "                                             address   crypto_type  \\\n",
            "0                   1AWqLhphSRLuEwgbJ9U3g5WmXMuvGFuL       Bitcoin   \n",
            "1     0xeda246eDAECfF433A38cff9Ac08D96d148E5edAe1Ffd      Ethereum   \n",
            "2          LJilNq3WYTEtOxNrcC2wK7bekMT7H1gpglFHGjVwA      Litecoin   \n",
            "3  3U2S1zDB7bGwhtRvJDaEFQeq1pObRPTJFxys3YbidhBiMB...  Bitcoin Cash   \n",
            "4                    1inwXvMNM1GEgvHOy1jFQF06McLzocy       Bitcoin   \n",
            "5    0xD1d7Ab99ec5FEdcDA57fACaEDa868aB5EedB9DAecc5f5      Ethereum   \n",
            "6            MzSFs5nXHU2Vt3MnRAFtnWGsfzJaInmGCi4EbVH      Litecoin   \n",
            "7  bitcoincash:55zmqneqvQocsdxc8b3mlkmvljk42lgn5g...  Bitcoin Cash   \n",
            "8                   3vgkZyp7hC9EJQce2Ky5AB7X5UcXtka5       Bitcoin   \n",
            "9      0x4D541bd5aAc60160B547e25ca684aE2FEF7ae074Ae0      Ethereum   \n",
            "\n",
            "                                            features  \n",
            "0  [32, 1, 0, 1, 0, 1, 0, 1, 0, 0, 0, 1, 0, 1, 0,...  \n",
            "1  [46, 0x, 2, 2, 1, 3, 3, 1, 2, 0, 3, 2, 1, 0, 2...  \n",
            "2  [41, L, 0, 1, 1, 1, 0, 0, 0, 2, 0, 0, 0, 1, 1,...  \n",
            "3  [50, 3, 0, 2, 1, 2, 1, 0, 0, 1, 0, 0, 1, 3, 1,...  \n",
            "4  [31, 1, 1, 3, 0, 0, 0, 0, 1, 0, 0, 0, 0, 0, 2,...  \n",
            "5  [47, 0x, 1, 1, 0, 0, 0, 5, 1, 2, 2, 3, 3, 1, 4...  \n",
            "6  [39, M, 0, 0, 1, 1, 1, 1, 0, 0, 0, 0, 1, 1, 0,...  \n",
            "7  [57, bitcoincash:, 0, 0, 2, 1, 1, 3, 0, 0, 1, ...  \n",
            "8  [32, 3, 0, 0, 1, 1, 0, 3, 0, 2, 0, 1, 1, 0, 2,...  \n",
            "9  [45, 0x, 5, 2, 2, 0, 5, 4, 3, 3, 1, 0, 4, 1, 2...  \n"
          ]
        }
      ]
    },
    {
      "cell_type": "markdown",
      "source": [
        "#Loading and preprocessing of the dataset for extracting features"
      ],
      "metadata": {
        "id": "y_Kn-EuOr6WG"
      }
    },
    {
      "cell_type": "code",
      "source": [
        "import numpy as np\n",
        "from sklearn.preprocessing import LabelEncoder\n",
        "import pickle\n",
        "\n",
        "def extract_features(address):\n",
        "    length = len(address)\n",
        "    if address.startswith('bc1'):\n",
        "        prefix = 'bc1'\n",
        "    elif address.startswith('0x'):\n",
        "        prefix = '0x'\n",
        "    elif address.startswith('ltc1'):\n",
        "        prefix = 'ltc1'\n",
        "    elif address.startswith('bitcoincash:'):\n",
        "        prefix = 'bitcoincash:'\n",
        "    else:\n",
        "        prefix = address[0]\n",
        "\n",
        "    char_distribution = {char: address.count(char) for char in '0123456789abcdefghijklmnopqrstuvwxyzABCDEFGHIJKLMNOPQRSTUVWXYZ'}\n",
        "    feature_vector = [length, prefix] + [char_distribution.get(char, 0) for char in '0123456789abcdefghijklmnopqrstuvwxyzABCDEFGHIJKLMNOPQRSTUVWXYZ']\n",
        "\n",
        "    return feature_vector\n",
        "\n",
        "\n",
        "# Apply feature extraction to the dataset\n",
        "df['features'] = df['address'].apply(extract_features)\n",
        "\n",
        "# Create a DataFrame from the feature lists\n",
        "df_features = pd.DataFrame(df['features'].tolist())\n",
        "\n",
        "# Separate prefix and other features\n",
        "prefixes = df_features[1]\n",
        "features = df_features.drop(columns=[1])\n",
        "\n",
        "# Encode prefixes\n",
        "label_encoder = LabelEncoder()\n",
        "encoded_prefixes = label_encoder.fit_transform(prefixes)\n",
        "pickle.dump(label_encoder, open('label_encoder.pkl', 'wb'))\n",
        "\n",
        "# Combine encoded prefixes with other features\n",
        "X = np.column_stack((encoded_prefixes, features))\n",
        "\n",
        "# Labels\n",
        "y = df['crypto_type']\n"
      ],
      "metadata": {
        "id": "21oG9qalrtfk"
      },
      "execution_count": null,
      "outputs": []
    },
    {
      "cell_type": "code",
      "source": [
        "print(X[:10])\n",
        "print()\n",
        "print(y[:10])"
      ],
      "metadata": {
        "colab": {
          "base_uri": "https://localhost:8080/"
        },
        "id": "vRJB4lfOgXFv",
        "outputId": "7271b218-75cd-48cb-da11-40e8854537b8"
      },
      "execution_count": null,
      "outputs": [
        {
          "output_type": "stream",
          "name": "stdout",
          "text": [
            "[[ 1 32  0  1  0  1  0  1  0  0  0  1  0  1  0  0  0  0  2  2  0  0  0  0\n",
            "   1  0  0  1  1  0  0  0  3  1  1  0  0  0  1  0  0  0  1  1  1  0  0  1\n",
            "   0  3  1  0  0  0  0  1  1  0  1  0  2  1  0  0]\n",
            " [ 0 46  2  2  1  3  3  1  2  0  3  2  1  0  2  4  4  4  0  0  0  0  0  0\n",
            "   0  0  0  0  0  0  0  0  0  0  0  1  0  0  4  0  1  2  2  2  0  0  0  0\n",
            "   0  0  0  0  0  0  0  0  0  0  0  0  0  0  0  0]\n",
            " [ 3 41  0  1  1  1  0  0  0  2  0  0  0  1  1  0  1  0  2  0  1  1  1  2\n",
            "   0  0  0  1  1  1  0  1  0  0  2  1  0  0  1  0  1  0  1  1  1  2  0  1\n",
            "   1  1  1  2  1  0  0  0  0  2  0  1  1  0  1  0]\n",
            " [ 2 50  0  2  1  2  1  0  0  1  0  0  1  3  1  1  1  1  0  2  2  0  0  0\n",
            "   0  0  0  1  1  0  1  2  0  1  1  1  1  1  0  3  0  2  1  2  1  0  0  2\n",
            "   0  0  1  0  1  1  1  2  1  1  1  0  0  0  1  0]\n",
            " [ 1 31  1  3  0  0  0  0  1  0  0  0  0  0  2  0  0  0  1  0  1  1  0  0\n",
            "   0  1  1  0  0  0  0  0  0  2  1  0  2  1  0  0  0  0  1  2  1  1  0  0\n",
            "   0  1  3  1  1  0  1  0  0  0  0  0  0  1  0  0]\n",
            " [ 0 47  1  1  0  0  0  5  1  2  2  3  3  1  4  3  3  2  0  0  0  0  0  0\n",
            "   0  0  0  0  0  0  0  0  0  0  0  1  0  0  4  2  1  4  3  1  0  0  0  0\n",
            "   0  0  0  0  0  0  0  0  0  0  0  0  0  0  0  0]\n",
            " [ 4 39  0  0  1  1  1  1  0  0  0  0  1  1  0  0  0  1  0  0  1  0  0  0\n",
            "   1  4  0  0  0  0  2  2  0  0  0  0  0  2  1  0  1  0  1  2  2  2  1  1\n",
            "   0  0  2  0  0  0  0  1  1  0  1  2  1  1  0  0]\n",
            " [ 6 57  0  0  2  1  1  3  0  0  1  0  2  3  6  1  1  0  2  1  2  1  2  3\n",
            "   4  3  3  0  2  0  3  2  0  3  0  1  0  2  0  0  0  0  0  0  0  0  0  0\n",
            "   0  0  0  0  0  0  1  0  0  0  0  0  0  0  0  0]\n",
            " [ 2 32  0  0  1  1  0  3  0  2  0  1  1  0  2  0  1  0  1  1  0  0  2  0\n",
            "   0  0  0  1  0  0  0  1  0  1  0  0  2  0  1  1  1  0  1  0  0  0  0  1\n",
            "   1  0  0  0  0  0  1  0  0  0  1  0  0  2  0  1]\n",
            " [ 0 45  5  2  2  0  5  4  3  3  1  0  4  1  2  1  3  0  0  0  0  0  0  0\n",
            "   0  0  0  0  0  0  0  0  0  0  0  1  0  0  2  1  0  1  2  2  0  0  0  0\n",
            "   0  0  0  0  0  0  0  0  0  0  0  0  0  0  0  0]]\n",
            "\n",
            "0         Bitcoin\n",
            "1        Ethereum\n",
            "2        Litecoin\n",
            "3    Bitcoin Cash\n",
            "4         Bitcoin\n",
            "5        Ethereum\n",
            "6        Litecoin\n",
            "7    Bitcoin Cash\n",
            "8         Bitcoin\n",
            "9        Ethereum\n",
            "Name: crypto_type, dtype: object\n"
          ]
        }
      ]
    },
    {
      "cell_type": "markdown",
      "source": [
        "#Training and assessing different ML models"
      ],
      "metadata": {
        "id": "kfDPIvQGtKHi"
      }
    },
    {
      "cell_type": "code",
      "source": [
        "from sklearn.linear_model import LogisticRegression\n",
        "from sklearn.tree import DecisionTreeClassifier\n",
        "from sklearn.ensemble import RandomForestClassifier, GradientBoostingClassifier\n",
        "from sklearn.svm import SVC\n",
        "from sklearn.model_selection import train_test_split\n",
        "from sklearn.metrics import classification_report, accuracy_score\n",
        "\n",
        "# Split the data\n",
        "X_train, X_test, y_train, y_test = train_test_split(X, y, test_size=0.2, random_state=42)\n",
        "\n",
        "# Function to train and evaluate a model\n",
        "def train_and_evaluate(model, model_name):\n",
        "    model.fit(X_train, y_train)\n",
        "    y_pred = model.predict(X_test)\n",
        "    print(f\"Results for {model_name}:\")\n",
        "    print(classification_report(y_test, y_pred))\n",
        "    accuracy = accuracy_score(y_test, y_pred)\n",
        "    print(f\"Accuracy: {accuracy:.2f}\")\n",
        "    print('-' * 60)\n",
        "\n",
        "# Logistic Regression\n",
        "log_reg = LogisticRegression(max_iter=1000)\n",
        "train_and_evaluate(log_reg, \"Logistic Regression\")\n",
        "\n",
        "# Decision Tree\n",
        "dec_tree = DecisionTreeClassifier()\n",
        "train_and_evaluate(dec_tree, \"Decision Tree\")\n",
        "\n",
        "# Random Forest\n",
        "rand_forest = RandomForestClassifier()\n",
        "train_and_evaluate(rand_forest, \"Random Forest\")\n",
        "\n",
        "# Gradient Boosting\n",
        "grad_boost = GradientBoostingClassifier()\n",
        "train_and_evaluate(grad_boost, \"Gradient Boosting\")\n",
        "\n",
        "# Support Vector Machine\n",
        "svm = SVC()\n",
        "train_and_evaluate(svm, \"Support Vector Machine\")\n"
      ],
      "metadata": {
        "colab": {
          "base_uri": "https://localhost:8080/"
        },
        "id": "M4mtR2lksf2z",
        "outputId": "b0a55572-32d2-411a-ab1a-2021f87d09ba"
      },
      "execution_count": null,
      "outputs": [
        {
          "output_type": "stream",
          "name": "stderr",
          "text": [
            "/usr/local/lib/python3.10/dist-packages/sklearn/linear_model/_logistic.py:458: ConvergenceWarning: lbfgs failed to converge (status=1):\n",
            "STOP: TOTAL NO. of ITERATIONS REACHED LIMIT.\n",
            "\n",
            "Increase the number of iterations (max_iter) or scale the data as shown in:\n",
            "    https://scikit-learn.org/stable/modules/preprocessing.html\n",
            "Please also refer to the documentation for alternative solver options:\n",
            "    https://scikit-learn.org/stable/modules/linear_model.html#logistic-regression\n",
            "  n_iter_i = _check_optimize_result(\n"
          ]
        },
        {
          "output_type": "stream",
          "name": "stdout",
          "text": [
            "Results for Logistic Regression:\n",
            "              precision    recall  f1-score   support\n",
            "\n",
            "     Bitcoin       0.95      0.93      0.94       978\n",
            "Bitcoin Cash       0.99      0.99      0.99      1008\n",
            "    Ethereum       1.00      1.00      1.00       998\n",
            "    Litecoin       0.93      0.94      0.93      1016\n",
            "\n",
            "    accuracy                           0.97      4000\n",
            "   macro avg       0.97      0.97      0.97      4000\n",
            "weighted avg       0.97      0.97      0.97      4000\n",
            "\n",
            "Accuracy: 0.97\n",
            "------------------------------------------------------------\n",
            "Results for Decision Tree:\n",
            "              precision    recall  f1-score   support\n",
            "\n",
            "     Bitcoin       0.96      0.96      0.96       978\n",
            "Bitcoin Cash       0.99      0.99      0.99      1008\n",
            "    Ethereum       1.00      1.00      1.00       998\n",
            "    Litecoin       0.95      0.96      0.95      1016\n",
            "\n",
            "    accuracy                           0.98      4000\n",
            "   macro avg       0.98      0.98      0.98      4000\n",
            "weighted avg       0.98      0.98      0.98      4000\n",
            "\n",
            "Accuracy: 0.98\n",
            "------------------------------------------------------------\n",
            "Results for Random Forest:\n",
            "              precision    recall  f1-score   support\n",
            "\n",
            "     Bitcoin       0.99      0.94      0.97       978\n",
            "Bitcoin Cash       0.99      0.99      0.99      1008\n",
            "    Ethereum       1.00      1.00      1.00       998\n",
            "    Litecoin       0.93      0.98      0.96      1016\n",
            "\n",
            "    accuracy                           0.98      4000\n",
            "   macro avg       0.98      0.98      0.98      4000\n",
            "weighted avg       0.98      0.98      0.98      4000\n",
            "\n",
            "Accuracy: 0.98\n",
            "------------------------------------------------------------\n",
            "Results for Gradient Boosting:\n",
            "              precision    recall  f1-score   support\n",
            "\n",
            "     Bitcoin       0.99      0.95      0.97       978\n",
            "Bitcoin Cash       0.99      0.99      0.99      1008\n",
            "    Ethereum       1.00      1.00      1.00       998\n",
            "    Litecoin       0.94      0.98      0.96      1016\n",
            "\n",
            "    accuracy                           0.98      4000\n",
            "   macro avg       0.98      0.98      0.98      4000\n",
            "weighted avg       0.98      0.98      0.98      4000\n",
            "\n",
            "Accuracy: 0.98\n",
            "------------------------------------------------------------\n",
            "Results for Support Vector Machine:\n",
            "              precision    recall  f1-score   support\n",
            "\n",
            "     Bitcoin       0.97      0.90      0.94       978\n",
            "Bitcoin Cash       0.99      0.99      0.99      1008\n",
            "    Ethereum       1.00      1.00      1.00       998\n",
            "    Litecoin       0.90      0.97      0.93      1016\n",
            "\n",
            "    accuracy                           0.96      4000\n",
            "   macro avg       0.97      0.96      0.96      4000\n",
            "weighted avg       0.97      0.96      0.96      4000\n",
            "\n",
            "Accuracy: 0.96\n",
            "------------------------------------------------------------\n"
          ]
        }
      ]
    },
    {
      "cell_type": "markdown",
      "source": [
        "#Sample Prediction after extracting features"
      ],
      "metadata": {
        "id": "blwqQm3Boyex"
      }
    },
    {
      "cell_type": "code",
      "source": [
        "def extract_feature(address):\n",
        "    length = len(address)\n",
        "    if address.startswith('bc1'):\n",
        "        prefix = 'bc1'\n",
        "    elif address.startswith('0x'):\n",
        "        prefix = '0x'\n",
        "    elif address.startswith('ltc1'):\n",
        "        prefix = 'ltc1'\n",
        "    elif address.startswith('bitcoincash:'):\n",
        "        prefix = 'bitcoincash:'\n",
        "    else:\n",
        "        prefix = address[0]\n",
        "\n",
        "    char_distribution = {char: address.count(char) for char in '0123456789abcdefghijklmnopqrstuvwxyzABCDEFGHIJKLMNOPQRSTUVWXYZ'}\n",
        "    feature_vector = [length, prefix] + [char_distribution.get(char, 0) for char in '0123456789abcdefghijklmnopqrstuvwxyzABCDEFGHIJKLMNOPQRSTUVWXYZ']\n",
        "\n",
        "    return feature_vector\n",
        "\n",
        "# Load the saved label encoder\n",
        "label_encoder = pickle.load(open('label_encoder.pkl', 'rb'))\n",
        "\n",
        "features = extract_feature(\"LgSZymhGV3DZbU1iMCLkhjobTqtiAsNsvJ\")\n",
        "\n",
        "# Extract and encode the prefix\n",
        "prefix = features[1]\n",
        "encoded_prefix = label_encoder.transform([prefix])[0]\n",
        "\n",
        "# Combine encoded prefix with other features\n",
        "combined_features =  [encoded_prefix] + [features[0]] + features[2:]\n",
        "\n",
        "# Convert features to numpy array and reshape\n",
        "features_np = np.array(combined_features).reshape(1, -1)\n",
        "\n",
        "grad_boost.predict(features_np)\n"
      ],
      "metadata": {
        "colab": {
          "base_uri": "https://localhost:8080/"
        },
        "id": "eFSJrudoEVvS",
        "outputId": "a28d314b-140e-417d-a25b-41f31b1eb07a"
      },
      "execution_count": null,
      "outputs": [
        {
          "output_type": "execute_result",
          "data": {
            "text/plain": [
              "array(['Litecoin'], dtype=object)"
            ]
          },
          "metadata": {},
          "execution_count": 27
        }
      ]
    },
    {
      "cell_type": "markdown",
      "source": [
        "#Deep Neural Network"
      ],
      "metadata": {
        "id": "Bd28LFlKo6MT"
      }
    },
    {
      "cell_type": "code",
      "source": [
        "from sklearn.preprocessing import LabelBinarizer\n",
        "\n",
        "# One-hot encode the labels\n",
        "encoder = LabelBinarizer()\n",
        "y_encoded = encoder.fit_transform(y)"
      ],
      "metadata": {
        "id": "7_F1QJkWwM2w"
      },
      "execution_count": null,
      "outputs": []
    },
    {
      "cell_type": "code",
      "source": [
        "print(y_encoded[:5])\n",
        "print(y[:5])"
      ],
      "metadata": {
        "colab": {
          "base_uri": "https://localhost:8080/"
        },
        "id": "tVtS7bnVkbhB",
        "outputId": "8ab2664d-8105-4f14-daf7-13626e9df7a4"
      },
      "execution_count": null,
      "outputs": [
        {
          "output_type": "stream",
          "name": "stdout",
          "text": [
            "[[1 0 0 0]\n",
            " [0 0 1 0]\n",
            " [0 0 0 1]\n",
            " [0 1 0 0]\n",
            " [1 0 0 0]]\n",
            "0         Bitcoin\n",
            "1        Ethereum\n",
            "2        Litecoin\n",
            "3    Bitcoin Cash\n",
            "4         Bitcoin\n",
            "Name: crypto_type, dtype: object\n"
          ]
        }
      ]
    },
    {
      "cell_type": "code",
      "source": [
        "import tensorflow as tf\n",
        "from tensorflow.keras.models import Sequential\n",
        "from tensorflow.keras.layers import Dense, Dropout, BatchNormalization\n",
        "from tensorflow.keras.optimizers import Adam\n",
        "from sklearn.model_selection import train_test_split\n",
        "\n",
        "# Split the data\n",
        "X_train, X_test, y_train, y_test = train_test_split(X, y_encoded, test_size=0.2, random_state=42)\n",
        "\n",
        "# Define the model\n",
        "model = Sequential()\n",
        "\n",
        "# Input layer\n",
        "model.add(Dense(256, input_dim=X.shape[1], activation='relu'))\n",
        "model.add(BatchNormalization())  # Add BatchNormalization after input layer\n",
        "\n",
        "# Hidden layers\n",
        "model.add(Dense(128, activation='relu'))\n",
        "model.add(Dropout(0.3))  # Adjust dropout rate\n",
        "\n",
        "model.add(Dense(64, activation='relu'))\n",
        "model.add(Dropout(0.3))  # Adjust dropout rate\n",
        "\n",
        "# Output layer\n",
        "model.add(Dense(y_encoded.shape[1], activation='softmax'))\n",
        "\n",
        "# Compile the model\n",
        "model.compile(optimizer=Adam(), loss='categorical_crossentropy', metrics=['accuracy'])\n",
        "\n",
        "# Summary of the model\n",
        "model.summary()\n",
        "\n"
      ],
      "metadata": {
        "colab": {
          "base_uri": "https://localhost:8080/"
        },
        "id": "KI9hWNLoADJB",
        "outputId": "067e82e0-559d-4772-cb5d-02f00f008af6"
      },
      "execution_count": null,
      "outputs": [
        {
          "output_type": "stream",
          "name": "stdout",
          "text": [
            "Model: \"sequential\"\n",
            "_________________________________________________________________\n",
            " Layer (type)                Output Shape              Param #   \n",
            "=================================================================\n",
            " dense (Dense)               (None, 256)               16640     \n",
            "                                                                 \n",
            " batch_normalization (Batch  (None, 256)               1024      \n",
            " Normalization)                                                  \n",
            "                                                                 \n",
            " dense_1 (Dense)             (None, 128)               32896     \n",
            "                                                                 \n",
            " dropout (Dropout)           (None, 128)               0         \n",
            "                                                                 \n",
            " dense_2 (Dense)             (None, 64)                8256      \n",
            "                                                                 \n",
            " dropout_1 (Dropout)         (None, 64)                0         \n",
            "                                                                 \n",
            " dense_3 (Dense)             (None, 4)                 260       \n",
            "                                                                 \n",
            "=================================================================\n",
            "Total params: 59076 (230.77 KB)\n",
            "Trainable params: 58564 (228.77 KB)\n",
            "Non-trainable params: 512 (2.00 KB)\n",
            "_________________________________________________________________\n"
          ]
        }
      ]
    },
    {
      "cell_type": "code",
      "source": [
        "# Train the model\n",
        "history = model.fit(X_train, y_train, epochs=20, batch_size=32, validation_split=0.2, verbose=1)\n"
      ],
      "metadata": {
        "colab": {
          "base_uri": "https://localhost:8080/"
        },
        "id": "pEWtHXDBAF2p",
        "outputId": "28b0cca0-e98e-41fe-cbfc-cd9b20b3f201"
      },
      "execution_count": null,
      "outputs": [
        {
          "output_type": "stream",
          "name": "stdout",
          "text": [
            "Epoch 1/20\n",
            "400/400 [==============================] - 6s 5ms/step - loss: 0.2054 - accuracy: 0.9205 - val_loss: 0.1037 - val_accuracy: 0.9563\n",
            "Epoch 2/20\n",
            "400/400 [==============================] - 3s 6ms/step - loss: 0.1342 - accuracy: 0.9495 - val_loss: 0.0944 - val_accuracy: 0.9581\n",
            "Epoch 3/20\n",
            "400/400 [==============================] - 2s 4ms/step - loss: 0.1125 - accuracy: 0.9580 - val_loss: 0.0784 - val_accuracy: 0.9684\n",
            "Epoch 4/20\n",
            "400/400 [==============================] - 2s 4ms/step - loss: 0.1129 - accuracy: 0.9569 - val_loss: 0.0739 - val_accuracy: 0.9684\n",
            "Epoch 5/20\n",
            "400/400 [==============================] - 2s 4ms/step - loss: 0.1099 - accuracy: 0.9584 - val_loss: 0.0817 - val_accuracy: 0.9675\n",
            "Epoch 6/20\n",
            "400/400 [==============================] - 2s 4ms/step - loss: 0.0961 - accuracy: 0.9631 - val_loss: 0.0714 - val_accuracy: 0.9697\n",
            "Epoch 7/20\n",
            "400/400 [==============================] - 2s 4ms/step - loss: 0.0939 - accuracy: 0.9645 - val_loss: 0.0672 - val_accuracy: 0.9722\n",
            "Epoch 8/20\n",
            "400/400 [==============================] - 2s 4ms/step - loss: 0.0907 - accuracy: 0.9661 - val_loss: 0.0607 - val_accuracy: 0.9769\n",
            "Epoch 9/20\n",
            "400/400 [==============================] - 2s 5ms/step - loss: 0.0731 - accuracy: 0.9718 - val_loss: 0.0617 - val_accuracy: 0.9784\n",
            "Epoch 10/20\n",
            "400/400 [==============================] - 2s 5ms/step - loss: 0.0801 - accuracy: 0.9699 - val_loss: 0.0553 - val_accuracy: 0.9787\n",
            "Epoch 11/20\n",
            "400/400 [==============================] - 2s 4ms/step - loss: 0.0736 - accuracy: 0.9716 - val_loss: 0.0506 - val_accuracy: 0.9803\n",
            "Epoch 12/20\n",
            "400/400 [==============================] - 2s 4ms/step - loss: 0.0702 - accuracy: 0.9727 - val_loss: 0.0522 - val_accuracy: 0.9797\n",
            "Epoch 13/20\n",
            "400/400 [==============================] - 2s 5ms/step - loss: 0.0675 - accuracy: 0.9749 - val_loss: 0.0634 - val_accuracy: 0.9766\n",
            "Epoch 14/20\n",
            "400/400 [==============================] - 2s 5ms/step - loss: 0.0655 - accuracy: 0.9752 - val_loss: 0.0630 - val_accuracy: 0.9753\n",
            "Epoch 15/20\n",
            "400/400 [==============================] - 2s 4ms/step - loss: 0.0592 - accuracy: 0.9781 - val_loss: 0.0517 - val_accuracy: 0.9806\n",
            "Epoch 16/20\n",
            "400/400 [==============================] - 3s 8ms/step - loss: 0.0634 - accuracy: 0.9760 - val_loss: 0.0724 - val_accuracy: 0.9703\n",
            "Epoch 17/20\n",
            "400/400 [==============================] - 2s 5ms/step - loss: 0.0610 - accuracy: 0.9764 - val_loss: 0.0610 - val_accuracy: 0.9784\n",
            "Epoch 18/20\n",
            "400/400 [==============================] - 2s 4ms/step - loss: 0.0615 - accuracy: 0.9766 - val_loss: 0.0572 - val_accuracy: 0.9784\n",
            "Epoch 19/20\n",
            "400/400 [==============================] - 2s 4ms/step - loss: 0.0563 - accuracy: 0.9788 - val_loss: 0.0556 - val_accuracy: 0.9778\n",
            "Epoch 20/20\n",
            "400/400 [==============================] - 2s 4ms/step - loss: 0.0577 - accuracy: 0.9768 - val_loss: 0.0511 - val_accuracy: 0.9819\n"
          ]
        }
      ]
    },
    {
      "cell_type": "code",
      "source": [
        "# Evaluate the model\n",
        "loss, accuracy = model.evaluate(X_test, y_test, verbose=0)\n",
        "print(f\"Test Accuracy: {accuracy:.2f}\")\n",
        "\n",
        "# Predictions and classification report\n",
        "y_pred = model.predict(X_test)\n",
        "y_pred_classes = encoder.inverse_transform(y_pred)\n",
        "y_test_classes = encoder.inverse_transform(y_test)\n",
        "\n",
        "from sklearn.metrics import classification_report\n",
        "print(classification_report(y_test_classes, y_pred_classes))"
      ],
      "metadata": {
        "colab": {
          "base_uri": "https://localhost:8080/"
        },
        "id": "9sHxJiSQANlC",
        "outputId": "c339e12b-5a52-4aba-a930-582bccadb1b6"
      },
      "execution_count": null,
      "outputs": [
        {
          "output_type": "stream",
          "name": "stdout",
          "text": [
            "Test Accuracy: 0.97\n",
            "125/125 [==============================] - 0s 2ms/step\n",
            "              precision    recall  f1-score   support\n",
            "\n",
            "     Bitcoin       0.97      0.95      0.96       978\n",
            "Bitcoin Cash       0.98      0.99      0.99      1008\n",
            "    Ethereum       1.00      1.00      1.00       998\n",
            "    Litecoin       0.94      0.96      0.95      1016\n",
            "\n",
            "    accuracy                           0.97      4000\n",
            "   macro avg       0.97      0.97      0.97      4000\n",
            "weighted avg       0.97      0.97      0.97      4000\n",
            "\n"
          ]
        }
      ]
    },
    {
      "cell_type": "code",
      "source": [
        "from tensorflow.keras.models import save_model\n",
        "\n",
        "model.save(\"final.h5\")"
      ],
      "metadata": {
        "colab": {
          "base_uri": "https://localhost:8080/"
        },
        "id": "uFJ3t1aSBbuZ",
        "outputId": "c810af14-b2cb-437a-ba7b-27d6f0266e0e"
      },
      "execution_count": null,
      "outputs": [
        {
          "output_type": "stream",
          "name": "stderr",
          "text": [
            "/usr/local/lib/python3.10/dist-packages/keras/src/engine/training.py:3103: UserWarning: You are saving your model as an HDF5 file via `model.save()`. This file format is considered legacy. We recommend using instead the native Keras format, e.g. `model.save('my_model.keras')`.\n",
            "  saving_api.save_model(\n"
          ]
        }
      ]
    }
  ]
}